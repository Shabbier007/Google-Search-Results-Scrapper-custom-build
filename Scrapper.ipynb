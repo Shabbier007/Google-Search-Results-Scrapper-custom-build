{
  "nbformat": 4,
  "nbformat_minor": 0,
  "metadata": {
    "colab": {
      "provenance": []
    },
    "kernelspec": {
      "name": "python3",
      "display_name": "Python 3"
    },
    "language_info": {
      "name": "python"
    }
  },
  "cells": [
    {
      "cell_type": "markdown",
      "source": [
        "# importing libraries"
      ],
      "metadata": {
        "id": "dZvAkMejlnVI"
      }
    },
    {
      "cell_type": "code",
      "execution_count": 40,
      "metadata": {
        "id": "Kv4KtG2EkAIb"
      },
      "outputs": [],
      "source": [
        "import requests\n",
        "from bs4 import BeautifulSoup\n",
        "import numpy as np\n",
        "import requests\n",
        "from bs4 import BeautifulSoup\n",
        "import re\n",
        "import pandas as pd"
      ]
    },
    {
      "cell_type": "code",
      "source": [
        "# html sk\n",
        "# extracted_l el\n",
        "kind type_\n",
        "links total_l\n",
        "displaylinks = dl"
      ],
      "metadata": {
        "id": "P9jH1YzHkmPb"
      },
      "execution_count": null,
      "outputs": []
    },
    {
      "cell_type": "markdown",
      "source": [
        "# scrapping class using google api and bs4"
      ],
      "metadata": {
        "id": "EmGON4yplqUF"
      }
    },
    {
      "cell_type": "code",
      "source": [
        "class searchResults:\n",
        "  def __init__(self):\n",
        "      self.soup = ''\n",
        "      self.div = []\n",
        "  def scrappingFxn(self, search_word):\n",
        "    search = search_word.replace(' ', '+')\n",
        "    t = []\n",
        "    results = 1000\n",
        "    url = (f\"https://www.google.com/search?q={search}&num={results}\")\n",
        "    requests_results = requests.get(url)\n",
        "    self.soup = BeautifulSoup(requests_results.content, \"html.parser\")\n",
        "    total_l = self.soup.find_all(\"a\")\n",
        "    el, sk, type_ = [],[],[]\n",
        "    for link in total_l:\n",
        "      elink = link.get('href')\n",
        "      if \"url?q=\" in elink and not \"webcache\" in elink:\n",
        "        tags = link.find_all('h3')\n",
        "        if len(tags) > 0:\n",
        "          sk.append(link.get('href'))\n",
        "          el.append(link.get('href').split(\"?q=\")[1].split(\"&sa=U\")[0])\n",
        "          t.append(tags[0].getText())\n",
        "          type_.append('customsearch#result')\n",
        "    return sk,el,t,type_\n",
        "  def extraction_div(self):\n",
        "    self.div = self.soup.find_all(\"div\", {'class': 'egMi0 kCrYT'})\n",
        "    print(len(self.div))\n",
        "    return self.div\n",
        "  def get_display_links(self):\n",
        "    dl = []\n",
        "    for i in self.div:\n",
        "      text = i.getText()\n",
        "      dl.append(text.split(' › ')[0])\n",
        "    return dl\n",
        "  def get_html_title(self):\n",
        "    pure_text = [x.getText() for x in self.div]\n",
        "    ht = []\n",
        "    for i in pure_text:\n",
        "      x = i.split(' ')\n",
        "      combined_text, counter, s = '', 0, 0\n",
        "      while s<len(x):\n",
        "        if np.random.choice([True, False]) and x[s] not in '›!@' and s!=0 and counter == 0:\n",
        "          combined_text+='<b>'\n",
        "          combined_text+=x[s]\n",
        "          combined_text+='<b>'\n",
        "          counter += 1\n",
        "        else:\n",
        "          combined_text += x[s]\n",
        "        s += 1\n",
        "        ht.append(combined_text)\n",
        "    return ht\n",
        "  def get_script(self):\n",
        "    sp = []\n",
        "    for i in self.div:\n",
        "      x = i.getText()\n",
        "      sp.append(''.join(x.split('›')))\n",
        "    return sp\n",
        "  def get_html_format(self):\n",
        "    ht = []\n",
        "    for i in self.div:\n",
        "      ht.append(i.getText())\n",
        "    return ht"
      ],
      "metadata": {
        "id": "gJBlUuLXkBk-"
      },
      "execution_count": 36,
      "outputs": []
    },
    {
      "cell_type": "markdown",
      "source": [
        "# object creating and defining a search term"
      ],
      "metadata": {
        "id": "ldhDrhaOqvSX"
      }
    },
    {
      "cell_type": "code",
      "source": [
        "obj = searchResults()\n",
        "sk, el, t, type_ = obj.scrappingFxn('artificial intelligence')"
      ],
      "metadata": {
        "id": "_rDFjG6TlJUg"
      },
      "execution_count": 37,
      "outputs": []
    },
    {
      "cell_type": "markdown",
      "source": [
        "# Extracting the data from tags"
      ],
      "metadata": {
        "id": "JKn8HW9mqr_q"
      }
    },
    {
      "cell_type": "code",
      "source": [
        "divs = obj.extraction_div()\n",
        "dl= obj.get_display_links()\n",
        "ht = obj.get_html_title()\n",
        "sp = obj.get_script()\n",
        "ht = obj.get_html_format()"
      ],
      "metadata": {
        "colab": {
          "base_uri": "https://localhost:8080/"
        },
        "id": "xLtNuPPClcC5",
        "outputId": "f552c9b8-50f0-474c-b0c8-11c1d6d38f16"
      },
      "execution_count": 38,
      "outputs": [
        {
          "output_type": "stream",
          "name": "stdout",
          "text": [
            "100\n"
          ]
        }
      ]
    },
    {
      "cell_type": "markdown",
      "source": [
        "# length of search results"
      ],
      "metadata": {
        "id": "wODhDYK8qpJE"
      }
    },
    {
      "cell_type": "code",
      "source": [
        "print(len(sk))\n",
        "print(len(el))\n",
        "print(len(t))\n",
        "print(len(type_))\n",
        "print(len(dl))\n",
        "print(len(ht))\n",
        "print(len(sp))\n",
        "print(len(ht))"
      ],
      "metadata": {
        "colab": {
          "base_uri": "https://localhost:8080/"
        },
        "id": "vjX8wuHylQ-K",
        "outputId": "7c35e5b9-4dbb-4739-ba2e-0123f3f5889a"
      },
      "execution_count": 39,
      "outputs": [
        {
          "output_type": "stream",
          "name": "stdout",
          "text": [
            "100\n",
            "100\n",
            "100\n",
            "100\n",
            "100\n",
            "100\n",
            "100\n",
            "100\n"
          ]
        }
      ]
    },
    {
      "cell_type": "markdown",
      "source": [
        "# converting into a dataframe"
      ],
      "metadata": {
        "id": "BHy4isqeqyvw"
      }
    },
    {
      "cell_type": "code",
      "source": [
        "data = pd.DataFrame()\n",
        "data['links'] = el\n",
        "data['titles'] = t\n",
        "data['htmlFormattedUrl'] = ht\n",
        "data['display link'] = dl\n",
        "data['snippet'] = sp\n",
        "data['cache'] = sp\n",
        "data['html title']  = ht"
      ],
      "metadata": {
        "id": "OAmYREwAmRgF"
      },
      "execution_count": 42,
      "outputs": []
    },
    {
      "cell_type": "code",
      "source": [
        "data.head()"
      ],
      "metadata": {
        "colab": {
          "base_uri": "https://localhost:8080/",
          "height": 565
        },
        "id": "v10_tV01rFD3",
        "outputId": "9a9282f9-1d2c-4d75-8238-83116981fa27"
      },
      "execution_count": 43,
      "outputs": [
        {
          "output_type": "execute_result",
          "data": {
            "text/plain": [
              "                                               links  \\\n",
              "0  https://en.wikipedia.org/wiki/Artificial_intel...   \n",
              "1  https://www.investopedia.com/terms/a/artificia...   \n",
              "2  https://www.techtarget.com/searchenterpriseai/...   \n",
              "3  https://www.oracle.com/artificial-intelligence...   \n",
              "4        https://builtin.com/artificial-intelligence   \n",
              "\n",
              "                                              titles  \\\n",
              "0                Artificial intelligence - Wikipedia   \n",
              "1  Artificial Intelligence: What It Is and How It...   \n",
              "2  What is Artificial Intelligence (AI)? Definiti...   \n",
              "3  What is AI? Learn about Artificial Intelligenc...   \n",
              "4  What Is Artificial Intelligence (AI)? How Does...   \n",
              "\n",
              "                                    htmlFormattedUrl  \\\n",
              "0  Artificial intelligence - Wikipediaen.wikipedi...   \n",
              "1  Artificial Intelligence: What It Is and How It...   \n",
              "2  What is Artificial Intelligence (AI)? Definiti...   \n",
              "3  What is AI? Learn about Artificial Intelligenc...   \n",
              "4  What Is Artificial Intelligence (AI)? How Does...   \n",
              "\n",
              "                                        display link  \\\n",
              "0  Artificial intelligence - Wikipediaen.wikipedi...   \n",
              "1  Artificial Intelligence: What It Is and How It...   \n",
              "2  What is Artificial Intelligence (AI)? Definiti...   \n",
              "3  What is AI? Learn about Artificial Intelligenc...   \n",
              "4  What Is Artificial Intelligence (AI)? How Does...   \n",
              "\n",
              "                                             snippet  \\\n",
              "0  Artificial intelligence - Wikipediaen.wikipedi...   \n",
              "1  Artificial Intelligence: What It Is and How It...   \n",
              "2  What is Artificial Intelligence (AI)? Definiti...   \n",
              "3  What is AI? Learn about Artificial Intelligenc...   \n",
              "4  What Is Artificial Intelligence (AI)? How Does...   \n",
              "\n",
              "                                               cache  \\\n",
              "0  Artificial intelligence - Wikipediaen.wikipedi...   \n",
              "1  Artificial Intelligence: What It Is and How It...   \n",
              "2  What is Artificial Intelligence (AI)? Definiti...   \n",
              "3  What is AI? Learn about Artificial Intelligenc...   \n",
              "4  What Is Artificial Intelligence (AI)? How Does...   \n",
              "\n",
              "                                          html title  \n",
              "0  Artificial intelligence - Wikipediaen.wikipedi...  \n",
              "1  Artificial Intelligence: What It Is and How It...  \n",
              "2  What is Artificial Intelligence (AI)? Definiti...  \n",
              "3  What is AI? Learn about Artificial Intelligenc...  \n",
              "4  What Is Artificial Intelligence (AI)? How Does...  "
            ],
            "text/html": [
              "\n",
              "  <div id=\"df-a9d7ab66-5850-4258-aa9c-09b2dd3b6a96\">\n",
              "    <div class=\"colab-df-container\">\n",
              "      <div>\n",
              "<style scoped>\n",
              "    .dataframe tbody tr th:only-of-type {\n",
              "        vertical-align: middle;\n",
              "    }\n",
              "\n",
              "    .dataframe tbody tr th {\n",
              "        vertical-align: top;\n",
              "    }\n",
              "\n",
              "    .dataframe thead th {\n",
              "        text-align: right;\n",
              "    }\n",
              "</style>\n",
              "<table border=\"1\" class=\"dataframe\">\n",
              "  <thead>\n",
              "    <tr style=\"text-align: right;\">\n",
              "      <th></th>\n",
              "      <th>links</th>\n",
              "      <th>titles</th>\n",
              "      <th>htmlFormattedUrl</th>\n",
              "      <th>display link</th>\n",
              "      <th>snippet</th>\n",
              "      <th>cache</th>\n",
              "      <th>html title</th>\n",
              "    </tr>\n",
              "  </thead>\n",
              "  <tbody>\n",
              "    <tr>\n",
              "      <th>0</th>\n",
              "      <td>https://en.wikipedia.org/wiki/Artificial_intel...</td>\n",
              "      <td>Artificial intelligence - Wikipedia</td>\n",
              "      <td>Artificial intelligence - Wikipediaen.wikipedi...</td>\n",
              "      <td>Artificial intelligence - Wikipediaen.wikipedi...</td>\n",
              "      <td>Artificial intelligence - Wikipediaen.wikipedi...</td>\n",
              "      <td>Artificial intelligence - Wikipediaen.wikipedi...</td>\n",
              "      <td>Artificial intelligence - Wikipediaen.wikipedi...</td>\n",
              "    </tr>\n",
              "    <tr>\n",
              "      <th>1</th>\n",
              "      <td>https://www.investopedia.com/terms/a/artificia...</td>\n",
              "      <td>Artificial Intelligence: What It Is and How It...</td>\n",
              "      <td>Artificial Intelligence: What It Is and How It...</td>\n",
              "      <td>Artificial Intelligence: What It Is and How It...</td>\n",
              "      <td>Artificial Intelligence: What It Is and How It...</td>\n",
              "      <td>Artificial Intelligence: What It Is and How It...</td>\n",
              "      <td>Artificial Intelligence: What It Is and How It...</td>\n",
              "    </tr>\n",
              "    <tr>\n",
              "      <th>2</th>\n",
              "      <td>https://www.techtarget.com/searchenterpriseai/...</td>\n",
              "      <td>What is Artificial Intelligence (AI)? Definiti...</td>\n",
              "      <td>What is Artificial Intelligence (AI)? Definiti...</td>\n",
              "      <td>What is Artificial Intelligence (AI)? Definiti...</td>\n",
              "      <td>What is Artificial Intelligence (AI)? Definiti...</td>\n",
              "      <td>What is Artificial Intelligence (AI)? Definiti...</td>\n",
              "      <td>What is Artificial Intelligence (AI)? Definiti...</td>\n",
              "    </tr>\n",
              "    <tr>\n",
              "      <th>3</th>\n",
              "      <td>https://www.oracle.com/artificial-intelligence...</td>\n",
              "      <td>What is AI? Learn about Artificial Intelligenc...</td>\n",
              "      <td>What is AI? Learn about Artificial Intelligenc...</td>\n",
              "      <td>What is AI? Learn about Artificial Intelligenc...</td>\n",
              "      <td>What is AI? Learn about Artificial Intelligenc...</td>\n",
              "      <td>What is AI? Learn about Artificial Intelligenc...</td>\n",
              "      <td>What is AI? Learn about Artificial Intelligenc...</td>\n",
              "    </tr>\n",
              "    <tr>\n",
              "      <th>4</th>\n",
              "      <td>https://builtin.com/artificial-intelligence</td>\n",
              "      <td>What Is Artificial Intelligence (AI)? How Does...</td>\n",
              "      <td>What Is Artificial Intelligence (AI)? How Does...</td>\n",
              "      <td>What Is Artificial Intelligence (AI)? How Does...</td>\n",
              "      <td>What Is Artificial Intelligence (AI)? How Does...</td>\n",
              "      <td>What Is Artificial Intelligence (AI)? How Does...</td>\n",
              "      <td>What Is Artificial Intelligence (AI)? How Does...</td>\n",
              "    </tr>\n",
              "  </tbody>\n",
              "</table>\n",
              "</div>\n",
              "      <button class=\"colab-df-convert\" onclick=\"convertToInteractive('df-a9d7ab66-5850-4258-aa9c-09b2dd3b6a96')\"\n",
              "              title=\"Convert this dataframe to an interactive table.\"\n",
              "              style=\"display:none;\">\n",
              "        \n",
              "  <svg xmlns=\"http://www.w3.org/2000/svg\" height=\"24px\"viewBox=\"0 0 24 24\"\n",
              "       width=\"24px\">\n",
              "    <path d=\"M0 0h24v24H0V0z\" fill=\"none\"/>\n",
              "    <path d=\"M18.56 5.44l.94 2.06.94-2.06 2.06-.94-2.06-.94-.94-2.06-.94 2.06-2.06.94zm-11 1L8.5 8.5l.94-2.06 2.06-.94-2.06-.94L8.5 2.5l-.94 2.06-2.06.94zm10 10l.94 2.06.94-2.06 2.06-.94-2.06-.94-.94-2.06-.94 2.06-2.06.94z\"/><path d=\"M17.41 7.96l-1.37-1.37c-.4-.4-.92-.59-1.43-.59-.52 0-1.04.2-1.43.59L10.3 9.45l-7.72 7.72c-.78.78-.78 2.05 0 2.83L4 21.41c.39.39.9.59 1.41.59.51 0 1.02-.2 1.41-.59l7.78-7.78 2.81-2.81c.8-.78.8-2.07 0-2.86zM5.41 20L4 18.59l7.72-7.72 1.47 1.35L5.41 20z\"/>\n",
              "  </svg>\n",
              "      </button>\n",
              "      \n",
              "  <style>\n",
              "    .colab-df-container {\n",
              "      display:flex;\n",
              "      flex-wrap:wrap;\n",
              "      gap: 12px;\n",
              "    }\n",
              "\n",
              "    .colab-df-convert {\n",
              "      background-color: #E8F0FE;\n",
              "      border: none;\n",
              "      border-radius: 50%;\n",
              "      cursor: pointer;\n",
              "      display: none;\n",
              "      fill: #1967D2;\n",
              "      height: 32px;\n",
              "      padding: 0 0 0 0;\n",
              "      width: 32px;\n",
              "    }\n",
              "\n",
              "    .colab-df-convert:hover {\n",
              "      background-color: #E2EBFA;\n",
              "      box-shadow: 0px 1px 2px rgba(60, 64, 67, 0.3), 0px 1px 3px 1px rgba(60, 64, 67, 0.15);\n",
              "      fill: #174EA6;\n",
              "    }\n",
              "\n",
              "    [theme=dark] .colab-df-convert {\n",
              "      background-color: #3B4455;\n",
              "      fill: #D2E3FC;\n",
              "    }\n",
              "\n",
              "    [theme=dark] .colab-df-convert:hover {\n",
              "      background-color: #434B5C;\n",
              "      box-shadow: 0px 1px 3px 1px rgba(0, 0, 0, 0.15);\n",
              "      filter: drop-shadow(0px 1px 2px rgba(0, 0, 0, 0.3));\n",
              "      fill: #FFFFFF;\n",
              "    }\n",
              "  </style>\n",
              "\n",
              "      <script>\n",
              "        const buttonEl =\n",
              "          document.querySelector('#df-a9d7ab66-5850-4258-aa9c-09b2dd3b6a96 button.colab-df-convert');\n",
              "        buttonEl.style.display =\n",
              "          google.colab.kernel.accessAllowed ? 'block' : 'none';\n",
              "\n",
              "        async function convertToInteractive(key) {\n",
              "          const element = document.querySelector('#df-a9d7ab66-5850-4258-aa9c-09b2dd3b6a96');\n",
              "          const dataTable =\n",
              "            await google.colab.kernel.invokeFunction('convertToInteractive',\n",
              "                                                     [key], {});\n",
              "          if (!dataTable) return;\n",
              "\n",
              "          const docLinkHtml = 'Like what you see? Visit the ' +\n",
              "            '<a target=\"_blank\" href=https://colab.research.google.com/notebooks/data_table.ipynb>data table notebook</a>'\n",
              "            + ' to learn more about interactive tables.';\n",
              "          element.innerHTML = '';\n",
              "          dataTable['output_type'] = 'display_data';\n",
              "          await google.colab.output.renderOutput(dataTable, element);\n",
              "          const docLink = document.createElement('div');\n",
              "          docLink.innerHTML = docLinkHtml;\n",
              "          element.appendChild(docLink);\n",
              "        }\n",
              "      </script>\n",
              "    </div>\n",
              "  </div>\n",
              "  "
            ]
          },
          "metadata": {},
          "execution_count": 43
        }
      ]
    },
    {
      "cell_type": "code",
      "source": [
        "data.to_csv('search_results_100.csv')"
      ],
      "metadata": {
        "id": "FwdqB0JErJVB"
      },
      "execution_count": 44,
      "outputs": []
    },
    {
      "cell_type": "code",
      "source": [],
      "metadata": {
        "id": "hZl_cwISrONA"
      },
      "execution_count": null,
      "outputs": []
    }
  ]
}